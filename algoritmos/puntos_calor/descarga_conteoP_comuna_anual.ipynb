{
 "cells": [
  {
   "cell_type": "code",
   "execution_count": 33,
   "id": "8d76a498",
   "metadata": {},
   "outputs": [],
   "source": [
    "import ee\n",
    "import geemap\n",
    "import pandas as pd"
   ]
  },
  {
   "cell_type": "code",
   "execution_count": 34,
   "id": "01151fef",
   "metadata": {},
   "outputs": [],
   "source": [
    "Map = geemap.Map()"
   ]
  },
  {
   "cell_type": "code",
   "execution_count": 35,
   "id": "0dddf550",
   "metadata": {},
   "outputs": [],
   "source": [
    "def registros(cod, m2, ha):\n",
    "    diccionario = {}\n",
    "    diccionario[\"COMUNA\"] = cod\n",
    "    diccionario[year + str(\"_m2\")] = m2\n",
    "    diccionario[year + str(\"_ha\")] = ha\n",
    "\n",
    "    return diccionario"
   ]
  },
  {
   "cell_type": "code",
   "execution_count": 36,
   "id": "83ad104f",
   "metadata": {},
   "outputs": [],
   "source": [
    "df = pd.read_excel(\"comunas.xlsx\")\n",
    "comunas = df[\"COD_COM\"].unique().tolist()"
   ]
  },
  {
   "cell_type": "code",
   "execution_count": 37,
   "id": "74adc4a4",
   "metadata": {},
   "outputs": [],
   "source": [
    "startDate = ['2011-01-01', '2012-01-01', '2013-01-01', '2014-01-01', '2015-01-01']\n",
    "endDate = ['2012-01-01', '2013-01-01', '2014-01-01', '2015-01-01', '2016-01-01']"
   ]
  },
  {
   "cell_type": "code",
   "execution_count": 38,
   "id": "5833d27f",
   "metadata": {},
   "outputs": [
    {
     "name": "stdout",
     "output_type": "stream",
     "text": [
      "2011\n",
      "2012\n",
      "2013\n",
      "2014\n",
      "2015\n"
     ]
    }
   ],
   "source": [
    "for j in zip(startDate,endDate):\n",
    "    \n",
    "    Fecha_inicial = str(j[0])\n",
    "    Fecha_final = str(j[1])\n",
    "    \n",
    "    year = Fecha_inicial[:4]\n",
    "    \n",
    "    # year_text_m2 = year\n",
    "    # year_text_ha = year\n",
    "    \n",
    "    print(year)\n",
    "    puntos = []\n",
    "\n",
    "    for i in comunas:\n",
    "        studyArea = ee.FeatureCollection(\"users/testHector/Lim_comunas\")\n",
    "        studyArea = studyArea.filterMetadata(\"COMUNA\",\"equals\", str(i))\n",
    "\n",
    "        dataset = ee.ImageCollection('MODIS/006/MCD64A1').filter(ee.Filter.date(Fecha_inicial, Fecha_final))\n",
    "        image = dataset.sum()\n",
    "\n",
    "\n",
    "        mask = image.select(0).mask().rename('mask')\n",
    "        area = ee.Image.pixelArea().multiply(mask).rename('area')\n",
    "\n",
    "\n",
    "        #sumDictionarypolygon1 = mask.addBands(area).reduceRegion({\n",
    "        sumDictionarypolygon1 = area.reduceRegion(\n",
    "          reducer = ee.Reducer.sum(),\n",
    "          geometry = studyArea.geometry(),\n",
    "          scale = 500,\n",
    "          maxPixels = 1e9\n",
    "        )\n",
    "\n",
    "        # print('sum for pol 1 mask, scale=500', sumDictionarypolygon1.values(obj))\n",
    "        area_m2 = sumDictionarypolygon1.getInfo()\n",
    "        \n",
    "        aQuemada_m2 = float(area_m2['area'])\n",
    "        aQuemada_ha = float(area_m2['area']) / 10000\n",
    "\n",
    "        # print(aQuemada)\n",
    "\n",
    "        diccionario = registros(i, aQuemada_m2, aQuemada_ha)\n",
    "        puntos.append(diccionario.copy())\n",
    "        \n",
    "    data = pd.DataFrame(puntos)\n",
    "    data.to_excel(\"ha_quemada_comuna_anual/\" + str(year) + \".xlsx\", index=False)"
   ]
  },
  {
   "cell_type": "code",
   "execution_count": null,
   "id": "2a195434",
   "metadata": {},
   "outputs": [],
   "source": []
  }
 ],
 "metadata": {
  "kernelspec": {
   "display_name": "Python 3",
   "language": "python",
   "name": "python3"
  },
  "language_info": {
   "codemirror_mode": {
    "name": "ipython",
    "version": 3
   },
   "file_extension": ".py",
   "mimetype": "text/x-python",
   "name": "python",
   "nbconvert_exporter": "python",
   "pygments_lexer": "ipython3",
   "version": "3.8.8"
  }
 },
 "nbformat": 4,
 "nbformat_minor": 5
}

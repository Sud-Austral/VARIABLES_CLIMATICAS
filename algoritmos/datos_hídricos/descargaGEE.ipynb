{
 "cells": [
  {
   "cell_type": "code",
   "execution_count": 9,
   "metadata": {},
   "outputs": [],
   "source": [
    "import ee\n",
    "import geemap\n",
    "import os\n",
    "from datetime import datetime"
   ]
  },
  {
   "cell_type": "code",
   "execution_count": 13,
   "metadata": {},
   "outputs": [],
   "source": [
    "# Configuración de variables\n",
    "\n",
    "Coleccion = \"IDAHO_EPSCOR/TERRACLIMATE\"\n",
    "geometry = \"data/subc_v2/subc_v2.geojson\"\n",
    "estadistica = \"SUM\"\n",
    "nombreEstadistica = \"SUMA\"\n",
    "escala = 500\n",
    "startDate = \"2000-01-01\"\n",
    "rutaDescarga = \"data/descarga_terraclimate_suma_subc\""
   ]
  },
  {
   "cell_type": "code",
   "execution_count": 14,
   "metadata": {},
   "outputs": [],
   "source": [
    "def DescargaDatos():\n",
    "    Map = geemap.Map()\n",
    "    landcoverColection = ee.ImageCollection(Coleccion)\n",
    "    fecha_inicio = startDate\n",
    "    fecha_final = datetime.now().strftime(\"%Y-%m-%d\")\n",
    "    limites = geemap.geojson_to_ee(geometry)\n",
    "    out_dir = os.path.join(rutaDescarga)\n",
    "    if not os.path.exists(out_dir):\n",
    "        os.makedirs(out_dir)\n",
    "    nombre_archivo = Coleccion.split(\"/\")[1]\n",
    "    \n",
    "    for band in landcoverColection.first().bandNames().getInfo():\n",
    "        print(f\"Descargando los datos de {estadistica} correspondiente a la banda {band}\")\n",
    "        landcover = landcoverColection.select(band).filter(ee.Filter.date(fecha_inicio, fecha_final))\n",
    "        out_dem_stats = os.path.join(out_dir, f'{nombre_archivo}_{nombreEstadistica}_{band}.csv')\n",
    "        geemap.zonal_statistics(landcover, limites, out_dem_stats, statistics_type=estadistica, scale=escala)\n",
    "    return nombre_archivo\n",
    "    "
   ]
  },
  {
   "cell_type": "code",
   "execution_count": 15,
   "metadata": {
    "scrolled": true
   },
   "outputs": [
    {
     "name": "stdout",
     "output_type": "stream",
     "text": [
      "Descargando los datos de SUM correspondiente a la banda aet\n",
      "Computing statistics ...\n",
      "Generating URL ...\n",
      "Downloading data from https://earthengine.googleapis.com/v1alpha/projects/earthengine-legacy/tables/db81273aad0aeecc6129368b732b28bf-21e41e58611bdcda8b0a7245fd8fb240:getFeatures\n",
      "Please wait ...\n",
      "Data downloaded to C:\\Users\\Hector\\Desktop\\DI\\Notebooks\\descargas_gee\\hidricos\\data\\descarga_terraclimate_suma_subc\\TERRACLIMATE_SUMA_aet.csv\n",
      "Descargando los datos de SUM correspondiente a la banda def\n",
      "Computing statistics ...\n",
      "Generating URL ...\n",
      "Downloading data from https://earthengine.googleapis.com/v1alpha/projects/earthengine-legacy/tables/2ba83d5a5faea308f13d7e52f8b34c09-82efd995d918777a55c2a5722abfa4f7:getFeatures\n",
      "Please wait ...\n",
      "Data downloaded to C:\\Users\\Hector\\Desktop\\DI\\Notebooks\\descargas_gee\\hidricos\\data\\descarga_terraclimate_suma_subc\\TERRACLIMATE_SUMA_def.csv\n",
      "Descargando los datos de SUM correspondiente a la banda pdsi\n",
      "Computing statistics ...\n",
      "Generating URL ...\n",
      "Downloading data from https://earthengine.googleapis.com/v1alpha/projects/earthengine-legacy/tables/2fdf52a94f522dc82821f23ec6587727-d47cb030bce21dda31d12996005f75ad:getFeatures\n",
      "Please wait ...\n",
      "Data downloaded to C:\\Users\\Hector\\Desktop\\DI\\Notebooks\\descargas_gee\\hidricos\\data\\descarga_terraclimate_suma_subc\\TERRACLIMATE_SUMA_pdsi.csv\n",
      "Descargando los datos de SUM correspondiente a la banda pet\n",
      "Computing statistics ...\n",
      "Generating URL ...\n",
      "Downloading data from https://earthengine.googleapis.com/v1alpha/projects/earthengine-legacy/tables/eb2bf8523fbcad5740ba3d50b34066d6-7dd06cc5c8b05953f2ddc0284b040d36:getFeatures\n",
      "Please wait ...\n",
      "Data downloaded to C:\\Users\\Hector\\Desktop\\DI\\Notebooks\\descargas_gee\\hidricos\\data\\descarga_terraclimate_suma_subc\\TERRACLIMATE_SUMA_pet.csv\n",
      "Descargando los datos de SUM correspondiente a la banda pr\n",
      "Computing statistics ...\n",
      "Generating URL ...\n",
      "Downloading data from https://earthengine.googleapis.com/v1alpha/projects/earthengine-legacy/tables/b782b45e6d298e63a7240b5582675639-0faa92e81ce011afb7b9ed20e7810eae:getFeatures\n",
      "Please wait ...\n",
      "Data downloaded to C:\\Users\\Hector\\Desktop\\DI\\Notebooks\\descargas_gee\\hidricos\\data\\descarga_terraclimate_suma_subc\\TERRACLIMATE_SUMA_pr.csv\n",
      "Descargando los datos de SUM correspondiente a la banda ro\n",
      "Computing statistics ...\n",
      "Generating URL ...\n",
      "Downloading data from https://earthengine.googleapis.com/v1alpha/projects/earthengine-legacy/tables/6db156b42fb01f4c5c55b0b6733f0500-70808391c13421277ad909aea749c280:getFeatures\n",
      "Please wait ...\n",
      "Data downloaded to C:\\Users\\Hector\\Desktop\\DI\\Notebooks\\descargas_gee\\hidricos\\data\\descarga_terraclimate_suma_subc\\TERRACLIMATE_SUMA_ro.csv\n",
      "Descargando los datos de SUM correspondiente a la banda soil\n",
      "Computing statistics ...\n",
      "Generating URL ...\n",
      "Downloading data from https://earthengine.googleapis.com/v1alpha/projects/earthengine-legacy/tables/8f4f6f70a75f96ef63cebdda554e34a8-ce3ec693839f9f6e525b231c1b7d648e:getFeatures\n",
      "Please wait ...\n",
      "Data downloaded to C:\\Users\\Hector\\Desktop\\DI\\Notebooks\\descargas_gee\\hidricos\\data\\descarga_terraclimate_suma_subc\\TERRACLIMATE_SUMA_soil.csv\n",
      "Descargando los datos de SUM correspondiente a la banda srad\n",
      "Computing statistics ...\n",
      "Generating URL ...\n",
      "Downloading data from https://earthengine.googleapis.com/v1alpha/projects/earthengine-legacy/tables/d979aa39fa33dab4060e10af4e91aec1-32a9a0b12031343b92cb5b03b7f5dfa4:getFeatures\n",
      "Please wait ...\n",
      "Data downloaded to C:\\Users\\Hector\\Desktop\\DI\\Notebooks\\descargas_gee\\hidricos\\data\\descarga_terraclimate_suma_subc\\TERRACLIMATE_SUMA_srad.csv\n",
      "Descargando los datos de SUM correspondiente a la banda swe\n",
      "Computing statistics ...\n",
      "Generating URL ...\n",
      "Downloading data from https://earthengine.googleapis.com/v1alpha/projects/earthengine-legacy/tables/26ef0aa96dfe68013d1d637175480cf1-f4b47de57bdcdbd5426c00d1deb11457:getFeatures\n",
      "Please wait ...\n",
      "Data downloaded to C:\\Users\\Hector\\Desktop\\DI\\Notebooks\\descargas_gee\\hidricos\\data\\descarga_terraclimate_suma_subc\\TERRACLIMATE_SUMA_swe.csv\n",
      "Descargando los datos de SUM correspondiente a la banda tmmn\n",
      "Computing statistics ...\n",
      "Generating URL ...\n",
      "Downloading data from https://earthengine.googleapis.com/v1alpha/projects/earthengine-legacy/tables/ce717a3903b257e89b125398cc259635-4f49eb3707b3956daa5e266792be59cb:getFeatures\n",
      "Please wait ...\n",
      "Data downloaded to C:\\Users\\Hector\\Desktop\\DI\\Notebooks\\descargas_gee\\hidricos\\data\\descarga_terraclimate_suma_subc\\TERRACLIMATE_SUMA_tmmn.csv\n",
      "Descargando los datos de SUM correspondiente a la banda tmmx\n",
      "Computing statistics ...\n",
      "Generating URL ...\n",
      "Downloading data from https://earthengine.googleapis.com/v1alpha/projects/earthengine-legacy/tables/beaf5545387217356c500b94b3470955-4ef53c099f43e2b9f6735c3422a38b08:getFeatures\n",
      "Please wait ...\n",
      "Data downloaded to C:\\Users\\Hector\\Desktop\\DI\\Notebooks\\descargas_gee\\hidricos\\data\\descarga_terraclimate_suma_subc\\TERRACLIMATE_SUMA_tmmx.csv\n",
      "Descargando los datos de SUM correspondiente a la banda vap\n",
      "Computing statistics ...\n",
      "Generating URL ...\n",
      "Downloading data from https://earthengine.googleapis.com/v1alpha/projects/earthengine-legacy/tables/573bb81d73466bec88c77d011070c928-5e5ea5264c2d29e86cb4236e46bccbc9:getFeatures\n",
      "Please wait ...\n",
      "Data downloaded to C:\\Users\\Hector\\Desktop\\DI\\Notebooks\\descargas_gee\\hidricos\\data\\descarga_terraclimate_suma_subc\\TERRACLIMATE_SUMA_vap.csv\n",
      "Descargando los datos de SUM correspondiente a la banda vpd\n",
      "Computing statistics ...\n",
      "Generating URL ...\n",
      "Downloading data from https://earthengine.googleapis.com/v1alpha/projects/earthengine-legacy/tables/09893a8696d7799c781ec5728ea886fb-f34934405e05bf599ba1ceb87833ebe4:getFeatures\n",
      "Please wait ...\n",
      "Data downloaded to C:\\Users\\Hector\\Desktop\\DI\\Notebooks\\descargas_gee\\hidricos\\data\\descarga_terraclimate_suma_subc\\TERRACLIMATE_SUMA_vpd.csv\n",
      "Descargando los datos de SUM correspondiente a la banda vs\n",
      "Computing statistics ...\n",
      "Generating URL ...\n",
      "Downloading data from https://earthengine.googleapis.com/v1alpha/projects/earthengine-legacy/tables/d4a26e8b4cb50a41ee2d0528864cb691-27713659ebf465117356b5f54eb34608:getFeatures\n",
      "Please wait ...\n",
      "Data downloaded to C:\\Users\\Hector\\Desktop\\DI\\Notebooks\\descargas_gee\\hidricos\\data\\descarga_terraclimate_suma_subc\\TERRACLIMATE_SUMA_vs.csv\n"
     ]
    },
    {
     "data": {
      "text/plain": [
       "'TERRACLIMATE'"
      ]
     },
     "execution_count": 15,
     "metadata": {},
     "output_type": "execute_result"
    }
   ],
   "source": [
    "DescargaDatos()"
   ]
  },
  {
   "cell_type": "code",
   "execution_count": null,
   "metadata": {},
   "outputs": [],
   "source": []
  }
 ],
 "metadata": {
  "kernelspec": {
   "display_name": "Python 3",
   "language": "python",
   "name": "python3"
  },
  "language_info": {
   "codemirror_mode": {
    "name": "ipython",
    "version": 3
   },
   "file_extension": ".py",
   "mimetype": "text/x-python",
   "name": "python",
   "nbconvert_exporter": "python",
   "pygments_lexer": "ipython3",
   "version": "3.8.8"
  }
 },
 "nbformat": 4,
 "nbformat_minor": 4
}

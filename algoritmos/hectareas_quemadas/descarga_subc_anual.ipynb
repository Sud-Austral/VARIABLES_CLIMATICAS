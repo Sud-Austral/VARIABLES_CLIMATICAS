{
 "cells": [
  {
   "cell_type": "code",
   "execution_count": 28,
   "id": "0c5980a9",
   "metadata": {},
   "outputs": [],
   "source": [
    "import ee\n",
    "import geemap\n",
    "import pandas as pd"
   ]
  },
  {
   "cell_type": "code",
   "execution_count": 29,
   "id": "4811452c",
   "metadata": {},
   "outputs": [],
   "source": [
    "Map = geemap.Map()"
   ]
  },
  {
   "cell_type": "code",
   "execution_count": 30,
   "id": "04db8f59",
   "metadata": {},
   "outputs": [],
   "source": [
    "df = pd.read_excel(\"SUBC.xlsx\")\n",
    "comunas = df[\"COD_SUBC\"].unique().tolist()"
   ]
  },
  {
   "cell_type": "code",
   "execution_count": 31,
   "id": "d701c908",
   "metadata": {},
   "outputs": [],
   "source": [
    "def registros(cod, cant):\n",
    "    diccionario = {}\n",
    "    diccionario[\"SUBC\"] = cod\n",
    "    diccionario[year] = cant\n",
    "\n",
    "    return diccionario"
   ]
  },
  {
   "cell_type": "code",
   "execution_count": 32,
   "id": "0614be19",
   "metadata": {},
   "outputs": [],
   "source": [
    "startDate = ['2001-01-01', '2002-01-01', '2003-01-01', '2004-01-01', '2005-01-01', '2006-01-01', '2007-01-01', '2008-01-01', '2009-01-01', '2010-01-01']\n",
    "endDate = ['2002-01-01', '2003-01-01', '2004-01-01', '2005-01-01', '2006-01-01', '2007-01-01', '2008-01-01', '2009-01-01', '2010-01-01', '2011-01-01']"
   ]
  },
  {
   "cell_type": "code",
   "execution_count": 34,
   "id": "7768bae2",
   "metadata": {},
   "outputs": [
    {
     "name": "stdout",
     "output_type": "stream",
     "text": [
      "2001\n",
      "2002\n",
      "2003\n",
      "2004\n",
      "2005\n",
      "2006\n",
      "2007\n",
      "2008\n",
      "2009\n",
      "2010\n"
     ]
    }
   ],
   "source": [
    "for i in zip(startDate,endDate):\n",
    "    \n",
    "    Fecha_inicial = str(i[0])\n",
    "    Fecha_final = str(i[1])\n",
    "    \n",
    "    year = Fecha_inicial[:4]\n",
    "    print(year)\n",
    "    \n",
    "    puntos = []\n",
    "\n",
    "    for i in comunas:\n",
    "        studyArea = ee.FeatureCollection(\"users/testHector/Subsubcuencas_v2\")\n",
    "        studyArea = studyArea.filterMetadata(\"COD_SUBC\",\"equals\", str(i).zfill(4))\n",
    "\n",
    "        FIRMS_colection2 = ee.ImageCollection('FIRMS')\n",
    "        FIRMS_colection = ee.ImageCollection('FIRMS')\n",
    "\n",
    "        FIRMS4 =FIRMS_colection2 \\\n",
    "          .select(['T21']) \\\n",
    "          .filterDate(Fecha_inicial,Fecha_final) \\\n",
    "          .filterBounds(studyArea)\n",
    "\n",
    "        FIRMS =FIRMS_colection \\\n",
    "          .select(['T21']) \\\n",
    "          .filterDate(Fecha_inicial,Fecha_final) \\\n",
    "          .filterBounds(studyArea)\n",
    "\n",
    "        FIRMScount4  = ee.Image(FIRMS4.count()).clip(studyArea)\n",
    "        FIRMSbinary4 = FIRMScount4.eq(FIRMScount4).rename('FIRMS_binary_alert_3')\n",
    "\n",
    "        project_crs   = ee.Image(FIRMS.first()).projection().crs()\n",
    "        scale = ee.Image(FIRMS.first()).projection().nominalScale()\n",
    "\n",
    "        FIRMSpoint4 = FIRMSbinary4.reduceToVectors(\n",
    "          geometry = studyArea,\n",
    "          eightConnected=True,\n",
    "          labelProperty='modis_fire',\n",
    "          maxPixels=1e16,\n",
    "          crs=project_crs,\n",
    "          scale=scale,\n",
    "          geometryType= 'centroid',\n",
    "          bestEffort= True,\n",
    "          tileScale= 16\n",
    "        )\n",
    "\n",
    "        numero_PI = ee.FeatureCollection(FIRMSpoint4).filterBounds(studyArea)\n",
    "\n",
    "        cantidad_PI = numero_PI.size()\n",
    "        cantidad =  cantidad_PI.getInfo()\n",
    "\n",
    "        diccionario = registros(i, cantidad)\n",
    "        puntos.append(diccionario.copy())\n",
    "        \n",
    "        \n",
    "    data = pd.DataFrame(puntos)\n",
    "    data.to_excel(\"subc_puntos_calor_anual/\" + str(year) + \".xlsx\", index=False)"
   ]
  },
  {
   "cell_type": "code",
   "execution_count": null,
   "id": "d3a27e02",
   "metadata": {},
   "outputs": [],
   "source": []
  }
 ],
 "metadata": {
  "kernelspec": {
   "display_name": "Python 3",
   "language": "python",
   "name": "python3"
  },
  "language_info": {
   "codemirror_mode": {
    "name": "ipython",
    "version": 3
   },
   "file_extension": ".py",
   "mimetype": "text/x-python",
   "name": "python",
   "nbconvert_exporter": "python",
   "pygments_lexer": "ipython3",
   "version": "3.8.8"
  }
 },
 "nbformat": 4,
 "nbformat_minor": 5
}
